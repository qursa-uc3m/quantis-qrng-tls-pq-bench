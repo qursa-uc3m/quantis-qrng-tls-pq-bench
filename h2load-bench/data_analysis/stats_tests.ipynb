{
 "cells": [
  {
   "cell_type": "code",
   "execution_count": 1,
   "metadata": {},
   "outputs": [],
   "source": [
    "import os\n",
    "import numpy as np\n",
    "import pandas as pd\n",
    "from scipy.stats import ks_2samp, wilcoxon\n",
    "\n",
    "from data_processing.functions import combine_summary_dataframes as combine_summary_dataframes"
   ]
  },
  {
   "cell_type": "code",
   "execution_count": 2,
   "metadata": {},
   "outputs": [],
   "source": [
    "def create_excel_file(dataframes_dict, file_name):\n",
    "    results_dir = \"./results\"\n",
    "    if not os.path.isdir(results_dir):\n",
    "            os.mkdir(results_dir)\n",
    "    file_name = os.path.join(results_dir, file_name)\n",
    "    with pd.ExcelWriter(file_name) as writer:\n",
    "        for sheet_name, dataframe in dataframes_dict.items():\n",
    "            dataframe.to_excel(writer, sheet_name=sheet_name)"
   ]
  },
  {
   "cell_type": "markdown",
   "metadata": {},
   "source": [
    "### Kolmogorov-Smirnov test"
   ]
  },
  {
   "cell_type": "code",
   "execution_count": 3,
   "metadata": {},
   "outputs": [],
   "source": [
    "def check_different_pairs(results_ks, p_value_threshold, file_name):\n",
    "    results_dir = \"./results\"\n",
    "    if \".txt\" not in file_name:\n",
    "        file_name += \".txt\"\n",
    "    file_name = os.path.join(results_dir, file_name)\n",
    "    if not os.path.isdir(results_dir):\n",
    "            os.mkdir(results_dir)\n",
    "    \n",
    "    with open(file_name, \"w\") as file:\n",
    "\n",
    "        for algorithm, df in results_ks.items():\n",
    "            file.write(f\"Algorithm: {algorithm}\\n\")\n",
    "            below_threshold_pairs = []\n",
    "            for row in df.index:\n",
    "                for col in df.columns:\n",
    "                    if not np.isnan(df.at[row, col]) and df.at[row, col] > p_value_threshold and df.at[row, col] != 1:\n",
    "                        below_threshold_pairs.append((row, col, df.at[row, col]))\n",
    "            for pair in below_threshold_pairs:\n",
    "                file.write(f\"{pair[0]} vs {pair[1]}: {pair[2]}\\n\")\n",
    "            file.write('-'*40 + \"\\n\")\n",
    "\n",
    "def ks_test(input_df, outer_keys, inner_keys, table_title, p_value_threshold=0.005):\n",
    "    # Create a dictionary to store the tables\n",
    "    results_tables = dict()\n",
    "\n",
    "    # Iterate over the inner keys\n",
    "    for inner_key in inner_keys:\n",
    "        # Create an empty DataFrame for the current inner key\n",
    "        results_df = pd.DataFrame(columns=outer_keys, index=outer_keys)\n",
    "        \n",
    "        # Iterate over the outer keys\n",
    "        for i, outer_key_i in enumerate(outer_keys):\n",
    "            for j, outer_key_j in enumerate(outer_keys):\n",
    "                if i<=j:\n",
    "                    # Check if the inner key exists for both outer keys\n",
    "                    column_i = input_df[(input_df[\"mode\"] == outer_key_i) & (input_df[\"algorithm\"] == inner_key)][\"Req/s\"].tolist()\n",
    "                    column_j = input_df[(input_df[\"mode\"] == outer_key_j) & (input_df[\"algorithm\"] == inner_key)][\"Req/s\"].tolist()\n",
    "                    # Perform the Kolmogorov-Smirnov test on the inner pandas series\n",
    "                    _, p_value = ks_2samp(column_i, column_j)\n",
    "                    # Store the p-value in the DataFrame\n",
    "                    results_df.iloc[i, j] = p_value\n",
    "        \n",
    "        # Store the DataFrame for the current inner key\n",
    "        results_tables[inner_key] = results_df\n",
    "        create_excel_file(results_tables, table_title)\n",
    "        #check_different_pairs(results_tables, p_value_threshold, table_title.replace(\".xlsx\", \".txt\"))\n",
    "    return results_tables"
   ]
  },
  {
   "cell_type": "markdown",
   "metadata": {},
   "source": [
    "### Wilcoxon test"
   ]
  },
  {
   "cell_type": "code",
   "execution_count": 4,
   "metadata": {},
   "outputs": [],
   "source": [
    "def wilcoxon_test(input_df, outer_keys, inner_keys, table_title, p_value_threshold=0.005):\n",
    "    # Create a dictionary to store the tables\n",
    "    results_tables = dict()\n",
    "\n",
    "    # Iterate over the inner keys\n",
    "    for inner_key in inner_keys:\n",
    "        # Create an empty DataFrame for the current inner key\n",
    "        results_df = pd.DataFrame(columns=outer_keys, index=outer_keys)\n",
    "\n",
    "        # Iterate over the outer keys\n",
    "        for i, outer_key_i in enumerate(outer_keys):\n",
    "            for j, outer_key_j in enumerate(outer_keys):\n",
    "                if i < j:\n",
    "                    # Select the data for the two groups\n",
    "                    group_i = input_df[(input_df[\"mode\"] == outer_key_i) & (input_df[\"algorithm\"] == inner_key)][\"Req/s\"].tolist()\n",
    "                    group_j = input_df[(input_df[\"mode\"] == outer_key_j) & (input_df[\"algorithm\"] == inner_key)][\"Req/s\"].tolist()\n",
    "\n",
    "                    # Perform the Wilcoxon test if both groups have data\n",
    "                    if group_i and group_j:\n",
    "                        _, p_value = wilcoxon(group_i, group_j)\n",
    "                        # Store the p-value in the DataFrame\n",
    "                        results_df.at[outer_key_i, outer_key_j] = p_value\n",
    "\n",
    "        # Store the DataFrame for the current inner key\n",
    "        results_tables[inner_key] = results_df\n",
    "\n",
    "    # The creation of the excel file and checking of different pairs would be done here.\n",
    "    create_excel_file(results_tables, table_title)\n",
    "\n",
    "    return results_tables"
   ]
  },
  {
   "cell_type": "markdown",
   "metadata": {},
   "source": [
    "### Parameters"
   ]
  },
  {
   "cell_type": "code",
   "execution_count": 5,
   "metadata": {},
   "outputs": [],
   "source": [
    "p_value_threshold = 0.0005\n",
    "n_clients = 1000\n",
    "n_requests = 1000\n",
    "inner_keys = ['P-256', 'P-384', 'P-521', 'X25519', 'X448', 'kyber1024', 'kyber512', 'kyber768',\n",
    "              'p256_kyber512', 'p384_kyber768', 'p521_kyber1024']"
   ]
  },
  {
   "cell_type": "markdown",
   "metadata": {},
   "source": [
    "### Figure 5"
   ]
  },
  {
   "cell_type": "code",
   "execution_count": 6,
   "metadata": {},
   "outputs": [],
   "source": [
    "outer_keys = [\"qrng-extraction-qrandom-xor\", \"qrng-extraction-rngtools_reseed1\", \"no-qrng\"]\n",
    "modes_df, _ = combine_summary_dataframes(n_clients, n_requests, outer_keys, n_runs=100)\n",
    "title_ks = 'ks_test_by_algorithm_fig_5.xlsx'\n",
    "results_ks = ks_test(modes_df, outer_keys, inner_keys, title_ks, p_value_threshold)\n",
    "title_wilcoxon = 'wilcoxon_test_by_algorithm_fig_5.xlsx'\n",
    "results_wilcoxon = wilcoxon_test(modes_df, outer_keys, inner_keys, title_wilcoxon, p_value_threshold)"
   ]
  },
  {
   "cell_type": "markdown",
   "metadata": {},
   "source": [
    "### Figure 4"
   ]
  },
  {
   "cell_type": "code",
   "execution_count": 7,
   "metadata": {},
   "outputs": [],
   "source": [
    "outer_keys = [\"qrng-extraction-qrandom\", \"qrng-extraction-qrandom-xor\", \"qrng-extraction-qlib-xor\", \"qrng-extraction-qlib\"]\n",
    "modes_df, _ = combine_summary_dataframes(n_clients, n_requests, outer_keys, n_runs=100)\n",
    "title_ks = 'ks_test_by_algorithm_fig_4.xlsx'\n",
    "results_ks = ks_test(modes_df, outer_keys, inner_keys, title_ks, p_value_threshold)\n",
    "title_wilcoxon = 'wilcoxon_test_by_algorithm_fig_4.xlsx'\n",
    "results_wilcoxon = wilcoxon_test(modes_df, outer_keys, inner_keys, title_wilcoxon, p_value_threshold)"
   ]
  },
  {
   "cell_type": "code",
   "execution_count": null,
   "metadata": {},
   "outputs": [],
   "source": []
  }
 ],
 "metadata": {
  "kernelspec": {
   "display_name": "Python 3",
   "language": "python",
   "name": "python3"
  },
  "language_info": {
   "codemirror_mode": {
    "name": "ipython",
    "version": 3
   },
   "file_extension": ".py",
   "mimetype": "text/x-python",
   "name": "python",
   "nbconvert_exporter": "python",
   "pygments_lexer": "ipython3",
   "version": "3.9.2"
  },
  "orig_nbformat": 4
 },
 "nbformat": 4,
 "nbformat_minor": 2
}
